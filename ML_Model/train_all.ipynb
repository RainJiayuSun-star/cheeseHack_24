{
 "cells": [
  {
   "cell_type": "code",
   "execution_count": 2,
   "id": "e5b3d6f4-8c07-4246-858f-862e46083542",
   "metadata": {},
   "outputs": [
    {
     "name": "stdout",
     "output_type": "stream",
     "text": [
      "Epoch 1/100\n"
     ]
    },
    {
     "name": "stderr",
     "output_type": "stream",
     "text": [
      "C:\\Users\\rainj\\AppData\\Local\\Temp\\ipykernel_45632\\188483134.py:43: SettingWithCopyWarning: \n",
      "A value is trying to be set on a copy of a slice from a DataFrame.\n",
      "Try using .loc[row_indexer,col_indexer] = value instead\n",
      "\n",
      "See the caveats in the documentation: https://pandas.pydata.org/pandas-docs/stable/user_guide/indexing.html#returning-a-view-versus-a-copy\n",
      "  df[col] = 0  # Fill missing columns with zeros (or use imputation)\n",
      "C:\\Users\\rainj\\AppData\\Local\\Temp\\ipykernel_45632\\188483134.py:43: SettingWithCopyWarning: \n",
      "A value is trying to be set on a copy of a slice from a DataFrame.\n",
      "Try using .loc[row_indexer,col_indexer] = value instead\n",
      "\n",
      "See the caveats in the documentation: https://pandas.pydata.org/pandas-docs/stable/user_guide/indexing.html#returning-a-view-versus-a-copy\n",
      "  df[col] = 0  # Fill missing columns with zeros (or use imputation)\n",
      "c:\\Users\\rainj\\AppData\\Local\\Programs\\Python\\Python312\\Lib\\site-packages\\keras\\src\\layers\\core\\dense.py:87: UserWarning: Do not pass an `input_shape`/`input_dim` argument to a layer. When using Sequential models, prefer using an `Input(shape)` object as the first layer in the model instead.\n",
      "  super().__init__(activity_regularizer=activity_regularizer, **kwargs)\n"
     ]
    },
    {
     "name": "stdout",
     "output_type": "stream",
     "text": [
      "\u001b[1m480/480\u001b[0m \u001b[32m━━━━━━━━━━━━━━━━━━━━\u001b[0m\u001b[37m\u001b[0m \u001b[1m1s\u001b[0m 2ms/step - loss: 0.8276 - mae: 0.5960 - val_loss: nan - val_mae: nan\n",
      "Epoch 2/100\n",
      "\u001b[1m480/480\u001b[0m \u001b[32m━━━━━━━━━━━━━━━━━━━━\u001b[0m\u001b[37m\u001b[0m \u001b[1m1s\u001b[0m 2ms/step - loss: 0.5897 - mae: 0.4491 - val_loss: nan - val_mae: nan\n",
      "Epoch 3/100\n",
      "\u001b[1m480/480\u001b[0m \u001b[32m━━━━━━━━━━━━━━━━━━━━\u001b[0m\u001b[37m\u001b[0m \u001b[1m1s\u001b[0m 2ms/step - loss: 0.5307 - mae: 0.4189 - val_loss: nan - val_mae: nan\n",
      "Epoch 4/100\n",
      "\u001b[1m480/480\u001b[0m \u001b[32m━━━━━━━━━━━━━━━━━━━━\u001b[0m\u001b[37m\u001b[0m \u001b[1m1s\u001b[0m 2ms/step - loss: 0.5407 - mae: 0.4163 - val_loss: nan - val_mae: nan\n",
      "Epoch 5/100\n",
      "\u001b[1m480/480\u001b[0m \u001b[32m━━━━━━━━━━━━━━━━━━━━\u001b[0m\u001b[37m\u001b[0m \u001b[1m1s\u001b[0m 2ms/step - loss: 0.5222 - mae: 0.4033 - val_loss: nan - val_mae: nan\n",
      "Epoch 6/100\n",
      "\u001b[1m480/480\u001b[0m \u001b[32m━━━━━━━━━━━━━━━━━━━━\u001b[0m\u001b[37m\u001b[0m \u001b[1m1s\u001b[0m 2ms/step - loss: 0.5435 - mae: 0.4036 - val_loss: nan - val_mae: nan\n",
      "Epoch 7/100\n",
      "\u001b[1m480/480\u001b[0m \u001b[32m━━━━━━━━━━━━━━━━━━━━\u001b[0m\u001b[37m\u001b[0m \u001b[1m1s\u001b[0m 2ms/step - loss: 0.5350 - mae: 0.4053 - val_loss: nan - val_mae: nan\n",
      "Epoch 8/100\n",
      "\u001b[1m480/480\u001b[0m \u001b[32m━━━━━━━━━━━━━━━━━━━━\u001b[0m\u001b[37m\u001b[0m \u001b[1m1s\u001b[0m 2ms/step - loss: 0.5017 - mae: 0.3972 - val_loss: nan - val_mae: nan\n",
      "Epoch 9/100\n",
      "\u001b[1m480/480\u001b[0m \u001b[32m━━━━━━━━━━━━━━━━━━━━\u001b[0m\u001b[37m\u001b[0m \u001b[1m1s\u001b[0m 2ms/step - loss: 0.5315 - mae: 0.4006 - val_loss: nan - val_mae: nan\n",
      "Epoch 10/100\n",
      "\u001b[1m480/480\u001b[0m \u001b[32m━━━━━━━━━━━━━━━━━━━━\u001b[0m\u001b[37m\u001b[0m \u001b[1m1s\u001b[0m 2ms/step - loss: 0.5396 - mae: 0.3955 - val_loss: nan - val_mae: nan\n",
      "Test Loss: nan, Test MAE: nan\n"
     ]
    }
   ],
   "source": [
    "# Import required libraries\n",
    "import pandas as pd\n",
    "import numpy as np\n",
    "from sklearn.model_selection import train_test_split\n",
    "from sklearn.preprocessing import StandardScaler\n",
    "from tensorflow.keras.models import Sequential\n",
    "from tensorflow.keras.layers import Dense, Dropout\n",
    "from tensorflow.keras.callbacks import EarlyStopping\n",
    "\n",
    "# Set numpy print options to avoid scientific notation\n",
    "np.set_printoptions(suppress=True, precision=2)\n",
    "\n",
    "# Load and preprocess datasets\n",
    "file_paths = {\n",
    "    \"1993-2002\": './NOAA_data_Madison/madison_1993-2002_cleaned.csv',\n",
    "    \"2003-2013\": './NOAA_data_Madison/madison_2003-2013_cleaned.csv',\n",
    "    \"2014-2024\": './NOAA_data_Madison/madison_2014-2024_cleaned.csv'\n",
    "}\n",
    "\n",
    "# Load datasets into dataframes\n",
    "df_train = pd.concat([pd.read_csv(file_paths[\"1993-2002\"]), pd.read_csv(file_paths[\"2003-2013\"])])\n",
    "df_validate_test = pd.read_csv(file_paths[\"2014-2024\"])\n",
    "\n",
    "# Feature engineering: Convert DATE to numerical features\n",
    "for df in [df_train, df_validate_test]:\n",
    "    df['DATE'] = pd.to_datetime(df['DATE'])\n",
    "    df['Year'] = df['DATE'].dt.year\n",
    "    df['Month'] = df['DATE'].dt.month\n",
    "    df['Day'] = df['DATE'].dt.day\n",
    "    df.drop(columns=['DATE'], inplace=True)\n",
    "\n",
    "# Split validation and testing data from 2014-2024 data\n",
    "df_validation = df_validate_test[(df_validate_test['Year'] >= 2014) & (df_validate_test['Year'] < 2019)]\n",
    "df_testing = df_validate_test[(df_validate_test['Year'] >= 2019) & (df_validate_test['Year'] <= 2024)]\n",
    "\n",
    "# Define target columns and handle missing columns dynamically\n",
    "target_columns = ['PRCP', 'SNOW', 'TMAX', 'TMIN', 'TOBS', 'TSUN']\n",
    "\n",
    "def ensure_columns(df, target_cols):\n",
    "    \"\"\"Ensure all target columns are present in the dataframe.\"\"\"\n",
    "    for col in target_cols:\n",
    "        if col not in df.columns:\n",
    "            df[col] = 0  # Fill missing columns with zeros (or use imputation)\n",
    "    return df\n",
    "\n",
    "df_train = ensure_columns(df_train, target_columns)\n",
    "df_validation = ensure_columns(df_validation, target_columns)\n",
    "df_testing = ensure_columns(df_testing, target_columns)\n",
    "\n",
    "# Define features (X) and target variables (y)\n",
    "def split_features_and_target(df):\n",
    "    X = df[['Year', 'Month', 'Day']]\n",
    "    y = df[target_columns]\n",
    "    return X, y\n",
    "\n",
    "X_train, y_train = split_features_and_target(df_train)\n",
    "X_validation, y_validation = split_features_and_target(df_validation)\n",
    "X_test, y_test = split_features_and_target(df_testing)\n",
    "\n",
    "# Scale the data\n",
    "scaler_X = StandardScaler()\n",
    "X_train_scaled = scaler_X.fit_transform(X_train)\n",
    "X_validation_scaled = scaler_X.transform(X_validation)\n",
    "X_test_scaled = scaler_X.transform(X_test)\n",
    "\n",
    "scaler_y = StandardScaler()\n",
    "y_train_scaled = scaler_y.fit_transform(y_train)\n",
    "y_validation_scaled = scaler_y.transform(y_validation)\n",
    "y_test_scaled = scaler_y.transform(y_test)\n",
    "\n",
    "# Build the neural network\n",
    "model = Sequential([\n",
    "    Dense(64, activation='relu', input_dim=X_train_scaled.shape[1]),\n",
    "    Dropout(0.2),\n",
    "    Dense(32, activation='relu'),\n",
    "    Dropout(0.2),\n",
    "    Dense(y_train_scaled.shape[1], activation='linear')\n",
    "])\n",
    "\n",
    "# Compile the model\n",
    "model.compile(optimizer='adam', loss='mse', metrics=['mae'])\n",
    "\n",
    "# Set up early stopping\n",
    "early_stop = EarlyStopping(monitor='val_loss', patience=10, restore_best_weights=True)\n",
    "\n",
    "# Train the model\n",
    "history = model.fit(\n",
    "    X_train_scaled, y_train_scaled,\n",
    "    validation_data=(X_validation_scaled, y_validation_scaled),\n",
    "    epochs=100,\n",
    "    batch_size=16,\n",
    "    callbacks=[early_stop],\n",
    "    verbose=1\n",
    ")\n",
    "\n",
    "# Evaluate the model\n",
    "loss, mae = model.evaluate(X_test_scaled, y_test_scaled, verbose=0)\n",
    "print(f\"Test Loss: {loss:.4f}, Test MAE: {mae:.4f}\")\n",
    "\n"
   ]
  },
  {
   "cell_type": "code",
   "execution_count": 3,
   "id": "0dd46af7",
   "metadata": {},
   "outputs": [
    {
     "name": "stderr",
     "output_type": "stream",
     "text": [
      "WARNING:absl:You are saving your model as an HDF5 file via `model.save()` or `keras.saving.save_model(model)`. This file format is considered legacy. We recommend using instead the native Keras format, e.g. `model.save('my_model.keras')` or `keras.saving.save_model(model, 'my_model.keras')`. \n"
     ]
    },
    {
     "data": {
      "text/plain": [
       "['scaler_y.pkl']"
      ]
     },
     "execution_count": 3,
     "metadata": {},
     "output_type": "execute_result"
    }
   ],
   "source": [
    "# Save the model\n",
    "model.save('weather_model.h5')\n",
    "\n",
    "from joblib import dump\n",
    "dump(scaler_X, 'scaler_X.pkl')\n",
    "dump(scaler_y, 'scaler_y.pkl')"
   ]
  },
  {
   "cell_type": "code",
   "execution_count": null,
   "id": "9bd72771-b8d3-41a3-aeba-1067d09590ce",
   "metadata": {},
   "outputs": [],
   "source": [
    "# Predict on new data\n",
    "user_year = int(input(\"Enter year: \"))\n",
    "user_month = int(input(\"Enter month: \"))\n",
    "user_day = int(input(\"Enter day: \"))\n",
    "\n",
    "new_date = pd.DataFrame({'Year': [user_year], 'Month': [user_month], 'Day': [user_day]})\n",
    "new_date_scaled = scaler_X.transform(new_date)\n",
    "prediction_scaled = model.predict(new_date_scaled)\n",
    "prediction = scaler_y.inverse_transform(prediction_scaled)[0]\n",
    "\n",
    "# Print the predicted values with descriptive labels\n",
    "factors = ['PRCP', 'SNOW', 'TMAX', 'TMIN', 'TOBS', 'TSUN']\n",
    "predicted_values = {factor: float(value) for factor, value in zip(factors, prediction)}\n",
    "\n",
    "print(f\"Predicted values for {new_date.iloc[0].values}:\")\n",
    "for factor, value in predicted_values.items():\n",
    "    print(f\"{factor}: {value:.2f}\")"
   ]
  },
  {
   "cell_type": "code",
   "execution_count": null,
   "id": "c80020de-29db-4ad1-afa8-343b6c42c185",
   "metadata": {},
   "outputs": [],
   "source": []
  }
 ],
 "metadata": {
  "kernelspec": {
   "display_name": "Python 3",
   "language": "python",
   "name": "python3"
  },
  "language_info": {
   "codemirror_mode": {
    "name": "ipython",
    "version": 3
   },
   "file_extension": ".py",
   "mimetype": "text/x-python",
   "name": "python",
   "nbconvert_exporter": "python",
   "pygments_lexer": "ipython3",
   "version": "3.12.1"
  }
 },
 "nbformat": 4,
 "nbformat_minor": 5
}
